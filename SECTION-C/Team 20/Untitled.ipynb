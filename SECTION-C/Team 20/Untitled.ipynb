{
 "cells": [
  {
   "cell_type": "code",
   "execution_count": 1,
   "id": "a133327d",
   "metadata": {},
   "outputs": [
    {
     "name": "stdout",
     "output_type": "stream",
     "text": [
      "Requirement already satisfied: opencv-python in c:\\users\\windows 10\\anaconda3\\lib\\site-packages (4.6.0.66)\n",
      "Requirement already satisfied: numpy>=1.14.5 in c:\\users\\windows 10\\anaconda3\\lib\\site-packages (from opencv-python) (1.21.5)\n"
     ]
    }
   ],
   "source": [
    "!pip install opencv-python"
   ]
  },
  {
   "cell_type": "code",
   "execution_count": 2,
   "id": "1c8b5f95",
   "metadata": {},
   "outputs": [],
   "source": [
    "import cv2"
   ]
  },
  {
   "cell_type": "code",
   "execution_count": 3,
   "id": "0e8ad850",
   "metadata": {},
   "outputs": [
    {
     "name": "stdout",
     "output_type": "stream",
     "text": [
      "Microsoft Windows [Version 10.0.19044.2728]\r\n",
      "(c) Microsoft Corporation. All rights reserved.\r\n",
      "\r\n",
      "C:\\Users\\Windows 10\\Documents\\a>  where python\n",
      "C:\\Users\\Windows 10\\anaconda3\\python.exe\r\n",
      "C:\\Users\\Windows 10\\AppData\\Local\\Microsoft\\WindowsApps\\python.exe\r\n",
      "\r\n",
      "C:\\Users\\Windows 10\\Documents\\a>"
     ]
    }
   ],
   "source": [
    "  %%cmd\n",
    "    where python"
   ]
  },
  {
   "cell_type": "code",
   "execution_count": 4,
   "id": "55d4567a",
   "metadata": {},
   "outputs": [
    {
     "name": "stdout",
     "output_type": "stream",
     "text": [
      "Microsoft Windows [Version 10.0.19044.2728]\r\n",
      "(c) Microsoft Corporation. All rights reserved.\r\n",
      "\r\n",
      "C:\\Users\\Windows 10\\Documents\\a>pip install face-recognition\n",
      "Collecting face-recognition\r\n",
      "  Downloading face_recognition-1.3.0-py2.py3-none-any.whl (15 kB)\r\n",
      "Requirement already satisfied: numpy in c:\\users\\windows 10\\anaconda3\\lib\\site-packages (from face-recognition) (1.21.5)\r\n",
      "Collecting dlib>=19.7\r\n",
      "  Using cached dlib-19.24.1.tar.gz (3.2 MB)\r\n",
      "  Preparing metadata (setup.py): started\r\n",
      "  Preparing metadata (setup.py): finished with status 'done'\r\n",
      "Requirement already satisfied: Click>=6.0 in c:\\users\\windows 10\\anaconda3\\lib\\site-packages (from face-recognition) (8.0.4)\r\n",
      "Requirement already satisfied: Pillow in c:\\users\\windows 10\\anaconda3\\lib\\site-packages (from face-recognition) (9.2.0)\r\n",
      "Collecting face-recognition-models>=0.3.0\r\n",
      "  Downloading face_recognition_models-0.3.0.tar.gz (100.1 MB)\r\n",
      "     -------------------------------------- 100.1/100.1 MB 1.3 MB/s eta 0:00:00\r\n",
      "  Preparing metadata (setup.py): started\r\n",
      "  Preparing metadata (setup.py): finished with status 'done'\r\n",
      "Requirement already satisfied: colorama in c:\\users\\windows 10\\anaconda3\\lib\\site-packages (from Click>=6.0->face-recognition) (0.4.5)\r\n",
      "Building wheels for collected packages: dlib, face-recognition-models\r\n",
      "  Building wheel for dlib (setup.py): started\r\n",
      "  Building wheel for dlib (setup.py): finished with status 'error'\r\n",
      "  Running setup.py clean for dlib\r\n",
      "  Building wheel for face-recognition-models (setup.py): started\r\n",
      "  Building wheel for face-recognition-models (setup.py): finished with status 'done'\r\n",
      "  Created wheel for face-recognition-models: filename=face_recognition_models-0.3.0-py2.py3-none-any.whl size=100566170 sha256=712b51eb4cd4ab5d9fb6c112fd6148842d682461412efa4c88b28df1428c9c88\r\n",
      "  Stored in directory: c:\\users\\windows 10\\appdata\\local\\pip\\cache\\wheels\\22\\a8\\60\\4a2aeb763d63f50190f4c4e07069a22245347eeafdb3a67551\r\n",
      "Successfully built face-recognition-models\r\n",
      "Failed to build dlib\r\n",
      "Installing collected packages: face-recognition-models, dlib, face-recognition\r\n",
      "  Running setup.py install for dlib: started\r\n",
      "  Running setup.py install for dlib: finished with status 'error'\r\n",
      "\r\n",
      "C:\\Users\\Windows 10\\Documents\\a>"
     ]
    },
    {
     "name": "stderr",
     "output_type": "stream",
     "text": [
      "  error: subprocess-exited-with-error\r\n",
      "  \r\n",
      "  python setup.py bdist_wheel did not run successfully.\r\n",
      "  exit code: 1\r\n",
      "  \r\n",
      "  [70 lines of output]\r\n",
      "  running bdist_wheel\r\n",
      "  running build\r\n",
      "  running build_py\r\n",
      "  running build_ext\r\n",
      "  C:\\Users\\Windows 10\\AppData\\Local\\Temp\\pip-install-2j2466ol\\dlib_451b164aff3f4a9eaab9a49865224037\\setup.py:129: DeprecationWarning: distutils Version classes are deprecated. Use packaging.version instead.\r\n",
      "    if LooseVersion(cmake_version) < '3.1.0':\r\n",
      "  Building extension for Python 3.9.13 (main, Aug 25 2022, 23:51:50) [MSC v.1916 64 bit (AMD64)]\r\n",
      "  Invoking CMake setup: 'cmake C:\\Users\\Windows 10\\AppData\\Local\\Temp\\pip-install-2j2466ol\\dlib_451b164aff3f4a9eaab9a49865224037\\tools\\python -DCMAKE_LIBRARY_OUTPUT_DIRECTORY=C:\\Users\\Windows 10\\AppData\\Local\\Temp\\pip-install-2j2466ol\\dlib_451b164aff3f4a9eaab9a49865224037\\build\\lib.win-amd64-cpython-39 -DPYTHON_EXECUTABLE=C:\\Users\\Windows 10\\anaconda3\\python.exe -DCMAKE_LIBRARY_OUTPUT_DIRECTORY_RELEASE=C:\\Users\\Windows 10\\AppData\\Local\\Temp\\pip-install-2j2466ol\\dlib_451b164aff3f4a9eaab9a49865224037\\build\\lib.win-amd64-cpython-39 -A x64'\r\n",
      "  -- Building for: NMake Makefiles\r\n",
      "  CMake Error at CMakeLists.txt:5 (message):\r\n",
      "  \r\n",
      "  \r\n",
      "  \r\n",
      "    !!!!!!!!!!!!!!!!!!!!!!!!!!!!!!!!!!!!!!!!!!!!!!!!!!!!!!!!!!!!!!!!!!!!!!!!!!!!!!!\r\n",
      "  \r\n",
      "  \r\n",
      "    You must use Visual Studio to build a python extension on windows.  If you\r\n",
      "    are getting this error it means you have not installed Visual C++.  Note\r\n",
      "    that there are many flavors of Visual Studio, like Visual Studio for C#\r\n",
      "    development.  You need to install Visual Studio for C++.\r\n",
      "  \r\n",
      "  \r\n",
      "    !!!!!!!!!!!!!!!!!!!!!!!!!!!!!!!!!!!!!!!!!!!!!!!!!!!!!!!!!!!!!!!!!!!!!!!!!!!!!!!\r\n",
      "  \r\n",
      "  \r\n",
      "  \r\n",
      "  \r\n",
      "  -- Configuring incomplete, errors occurred!\r\n",
      "  Traceback (most recent call last):\r\n",
      "    File \"<string>\", line 2, in <module>\r\n",
      "    File \"<pip-setuptools-caller>\", line 34, in <module>\r\n",
      "    File \"C:\\Users\\Windows 10\\AppData\\Local\\Temp\\pip-install-2j2466ol\\dlib_451b164aff3f4a9eaab9a49865224037\\setup.py\", line 222, in <module>\r\n",
      "      setup(\r\n",
      "    File \"C:\\Users\\Windows 10\\anaconda3\\lib\\site-packages\\setuptools\\__init__.py\", line 87, in setup\r\n",
      "      return distutils.core.setup(**attrs)\r\n",
      "    File \"C:\\Users\\Windows 10\\anaconda3\\lib\\site-packages\\setuptools\\_distutils\\core.py\", line 185, in setup\r\n",
      "      return run_commands(dist)\r\n",
      "    File \"C:\\Users\\Windows 10\\anaconda3\\lib\\site-packages\\setuptools\\_distutils\\core.py\", line 201, in run_commands\r\n",
      "      dist.run_commands()\r\n",
      "    File \"C:\\Users\\Windows 10\\anaconda3\\lib\\site-packages\\setuptools\\_distutils\\dist.py\", line 973, in run_commands\r\n",
      "      self.run_command(cmd)\r\n",
      "    File \"C:\\Users\\Windows 10\\anaconda3\\lib\\site-packages\\setuptools\\dist.py\", line 1217, in run_command\r\n",
      "      super().run_command(command)\r\n",
      "    File \"C:\\Users\\Windows 10\\anaconda3\\lib\\site-packages\\setuptools\\_distutils\\dist.py\", line 992, in run_command\r\n",
      "      cmd_obj.run()\r\n",
      "    File \"C:\\Users\\Windows 10\\anaconda3\\lib\\site-packages\\wheel\\bdist_wheel.py\", line 299, in run\r\n",
      "      self.run_command('build')\r\n",
      "    File \"C:\\Users\\Windows 10\\anaconda3\\lib\\site-packages\\setuptools\\_distutils\\cmd.py\", line 319, in run_command\r\n",
      "      self.distribution.run_command(command)\r\n",
      "    File \"C:\\Users\\Windows 10\\anaconda3\\lib\\site-packages\\setuptools\\dist.py\", line 1217, in run_command\r\n",
      "      super().run_command(command)\r\n",
      "    File \"C:\\Users\\Windows 10\\anaconda3\\lib\\site-packages\\setuptools\\_distutils\\dist.py\", line 992, in run_command\r\n",
      "      cmd_obj.run()\r\n",
      "    File \"C:\\Users\\Windows 10\\anaconda3\\lib\\site-packages\\setuptools\\command\\build.py\", line 24, in run\r\n",
      "      super().run()\r\n",
      "    File \"C:\\Users\\Windows 10\\anaconda3\\lib\\site-packages\\setuptools\\_distutils\\command\\build.py\", line 132, in run\r\n",
      "      self.run_command(cmd_name)\r\n",
      "    File \"C:\\Users\\Windows 10\\anaconda3\\lib\\site-packages\\setuptools\\_distutils\\cmd.py\", line 319, in run_command\r\n",
      "      self.distribution.run_command(command)\r\n",
      "    File \"C:\\Users\\Windows 10\\anaconda3\\lib\\site-packages\\setuptools\\dist.py\", line 1217, in run_command\r\n",
      "      super().run_command(command)\r\n",
      "    File \"C:\\Users\\Windows 10\\anaconda3\\lib\\site-packages\\setuptools\\_distutils\\dist.py\", line 992, in run_command\r\n",
      "      cmd_obj.run()\r\n",
      "    File \"C:\\Users\\Windows 10\\AppData\\Local\\Temp\\pip-install-2j2466ol\\dlib_451b164aff3f4a9eaab9a49865224037\\setup.py\", line 134, in run\r\n",
      "      self.build_extension(ext)\r\n",
      "    File \"C:\\Users\\Windows 10\\AppData\\Local\\Temp\\pip-install-2j2466ol\\dlib_451b164aff3f4a9eaab9a49865224037\\setup.py\", line 171, in build_extension\r\n",
      "      subprocess.check_call(cmake_setup, cwd=build_folder)\r\n",
      "    File \"C:\\Users\\Windows 10\\anaconda3\\lib\\subprocess.py\", line 373, in check_call\r\n",
      "      raise CalledProcessError(retcode, cmd)\r\n",
      "  subprocess.CalledProcessError: Command '['cmake', 'C:\\\\Users\\\\Windows 10\\\\AppData\\\\Local\\\\Temp\\\\pip-install-2j2466ol\\\\dlib_451b164aff3f4a9eaab9a49865224037\\\\tools\\\\python', '-DCMAKE_LIBRARY_OUTPUT_DIRECTORY=C:\\\\Users\\\\Windows 10\\\\AppData\\\\Local\\\\Temp\\\\pip-install-2j2466ol\\\\dlib_451b164aff3f4a9eaab9a49865224037\\\\build\\\\lib.win-amd64-cpython-39', '-DPYTHON_EXECUTABLE=C:\\\\Users\\\\Windows 10\\\\anaconda3\\\\python.exe', '-DCMAKE_LIBRARY_OUTPUT_DIRECTORY_RELEASE=C:\\\\Users\\\\Windows 10\\\\AppData\\\\Local\\\\Temp\\\\pip-install-2j2466ol\\\\dlib_451b164aff3f4a9eaab9a49865224037\\\\build\\\\lib.win-amd64-cpython-39', '-A', 'x64']' returned non-zero exit status 1.\r\n",
      "  [end of output]\r\n",
      "  \r\n",
      "  note: This error originates from a subprocess, and is likely not a problem with pip.\r\n",
      "  ERROR: Failed building wheel for dlib\r\n",
      "  error: subprocess-exited-with-error\r\n",
      "  \r\n",
      "  Running setup.py install for dlib did not run successfully.\r\n",
      "  exit code: 1\r\n",
      "  \r\n",
      "  [74 lines of output]\r\n",
      "  running install\r\n",
      "  C:\\Users\\Windows 10\\anaconda3\\lib\\site-packages\\setuptools\\command\\install.py:34: SetuptoolsDeprecationWarning: setup.py install is deprecated. Use build and pip and other standards-based tools.\r\n",
      "    warnings.warn(\r\n",
      "  running build\r\n",
      "  running build_py\r\n",
      "  running build_ext\r\n",
      "  C:\\Users\\Windows 10\\AppData\\Local\\Temp\\pip-install-2j2466ol\\dlib_451b164aff3f4a9eaab9a49865224037\\setup.py:129: DeprecationWarning: distutils Version classes are deprecated. Use packaging.version instead.\r\n",
      "    if LooseVersion(cmake_version) < '3.1.0':\r\n",
      "  Building extension for Python 3.9.13 (main, Aug 25 2022, 23:51:50) [MSC v.1916 64 bit (AMD64)]\r\n",
      "  Invoking CMake setup: 'cmake C:\\Users\\Windows 10\\AppData\\Local\\Temp\\pip-install-2j2466ol\\dlib_451b164aff3f4a9eaab9a49865224037\\tools\\python -DCMAKE_LIBRARY_OUTPUT_DIRECTORY=C:\\Users\\Windows 10\\AppData\\Local\\Temp\\pip-install-2j2466ol\\dlib_451b164aff3f4a9eaab9a49865224037\\build\\lib.win-amd64-cpython-39 -DPYTHON_EXECUTABLE=C:\\Users\\Windows 10\\anaconda3\\python.exe -DCMAKE_LIBRARY_OUTPUT_DIRECTORY_RELEASE=C:\\Users\\Windows 10\\AppData\\Local\\Temp\\pip-install-2j2466ol\\dlib_451b164aff3f4a9eaab9a49865224037\\build\\lib.win-amd64-cpython-39 -A x64'\r\n",
      "  -- Building for: NMake Makefiles\r\n",
      "  CMake Error at CMakeLists.txt:5 (message):\r\n",
      "  \r\n",
      "  \r\n",
      "  \r\n",
      "    !!!!!!!!!!!!!!!!!!!!!!!!!!!!!!!!!!!!!!!!!!!!!!!!!!!!!!!!!!!!!!!!!!!!!!!!!!!!!!!\r\n",
      "  \r\n",
      "  \r\n",
      "    You must use Visual Studio to build a python extension on windows.  If you\r\n",
      "    are getting this error it means you have not installed Visual C++.  Note\r\n",
      "    that there are many flavors of Visual Studio, like Visual Studio for C#\r\n",
      "    development.  You need to install Visual Studio for C++.\r\n",
      "  \r\n",
      "  \r\n",
      "    !!!!!!!!!!!!!!!!!!!!!!!!!!!!!!!!!!!!!!!!!!!!!!!!!!!!!!!!!!!!!!!!!!!!!!!!!!!!!!!\r\n",
      "  \r\n",
      "  \r\n",
      "  \r\n",
      "  \r\n",
      "  -- Configuring incomplete, errors occurred!\r\n",
      "  Traceback (most recent call last):\r\n",
      "    File \"<string>\", line 2, in <module>\r\n",
      "    File \"<pip-setuptools-caller>\", line 34, in <module>\r\n",
      "    File \"C:\\Users\\Windows 10\\AppData\\Local\\Temp\\pip-install-2j2466ol\\dlib_451b164aff3f4a9eaab9a49865224037\\setup.py\", line 222, in <module>\r\n",
      "      setup(\r\n",
      "    File \"C:\\Users\\Windows 10\\anaconda3\\lib\\site-packages\\setuptools\\__init__.py\", line 87, in setup\r\n",
      "      return distutils.core.setup(**attrs)\r\n",
      "    File \"C:\\Users\\Windows 10\\anaconda3\\lib\\site-packages\\setuptools\\_distutils\\core.py\", line 185, in setup\r\n",
      "      return run_commands(dist)\r\n",
      "    File \"C:\\Users\\Windows 10\\anaconda3\\lib\\site-packages\\setuptools\\_distutils\\core.py\", line 201, in run_commands\r\n",
      "      dist.run_commands()\r\n",
      "    File \"C:\\Users\\Windows 10\\anaconda3\\lib\\site-packages\\setuptools\\_distutils\\dist.py\", line 973, in run_commands\r\n",
      "      self.run_command(cmd)\r\n",
      "    File \"C:\\Users\\Windows 10\\anaconda3\\lib\\site-packages\\setuptools\\dist.py\", line 1217, in run_command\r\n",
      "      super().run_command(command)\r\n",
      "    File \"C:\\Users\\Windows 10\\anaconda3\\lib\\site-packages\\setuptools\\_distutils\\dist.py\", line 992, in run_command\r\n",
      "      cmd_obj.run()\r\n",
      "    File \"C:\\Users\\Windows 10\\anaconda3\\lib\\site-packages\\setuptools\\command\\install.py\", line 68, in run\r\n",
      "      return orig.install.run(self)\r\n",
      "    File \"C:\\Users\\Windows 10\\anaconda3\\lib\\site-packages\\setuptools\\_distutils\\command\\install.py\", line 692, in run\r\n",
      "      self.run_command('build')\r\n",
      "    File \"C:\\Users\\Windows 10\\anaconda3\\lib\\site-packages\\setuptools\\_distutils\\cmd.py\", line 319, in run_command\r\n",
      "      self.distribution.run_command(command)\r\n",
      "    File \"C:\\Users\\Windows 10\\anaconda3\\lib\\site-packages\\setuptools\\dist.py\", line 1217, in run_command\r\n",
      "      super().run_command(command)\r\n",
      "    File \"C:\\Users\\Windows 10\\anaconda3\\lib\\site-packages\\setuptools\\_distutils\\dist.py\", line 992, in run_command\r\n",
      "      cmd_obj.run()\r\n",
      "    File \"C:\\Users\\Windows 10\\anaconda3\\lib\\site-packages\\setuptools\\command\\build.py\", line 24, in run\r\n",
      "      super().run()\r\n",
      "    File \"C:\\Users\\Windows 10\\anaconda3\\lib\\site-packages\\setuptools\\_distutils\\command\\build.py\", line 132, in run\r\n",
      "      self.run_command(cmd_name)\r\n",
      "    File \"C:\\Users\\Windows 10\\anaconda3\\lib\\site-packages\\setuptools\\_distutils\\cmd.py\", line 319, in run_command\r\n",
      "      self.distribution.run_command(command)\r\n",
      "    File \"C:\\Users\\Windows 10\\anaconda3\\lib\\site-packages\\setuptools\\dist.py\", line 1217, in run_command\r\n",
      "      super().run_command(command)\r\n",
      "    File \"C:\\Users\\Windows 10\\anaconda3\\lib\\site-packages\\setuptools\\_distutils\\dist.py\", line 992, in run_command\r\n",
      "      cmd_obj.run()\r\n",
      "    File \"C:\\Users\\Windows 10\\AppData\\Local\\Temp\\pip-install-2j2466ol\\dlib_451b164aff3f4a9eaab9a49865224037\\setup.py\", line 134, in run\r\n",
      "      self.build_extension(ext)\r\n",
      "    File \"C:\\Users\\Windows 10\\AppData\\Local\\Temp\\pip-install-2j2466ol\\dlib_451b164aff3f4a9eaab9a49865224037\\setup.py\", line 171, in build_extension\r\n",
      "      subprocess.check_call(cmake_setup, cwd=build_folder)\r\n",
      "    File \"C:\\Users\\Windows 10\\anaconda3\\lib\\subprocess.py\", line 373, in check_call\r\n",
      "      raise CalledProcessError(retcode, cmd)\r\n",
      "  subprocess.CalledProcessError: Command '['cmake', 'C:\\\\Users\\\\Windows 10\\\\AppData\\\\Local\\\\Temp\\\\pip-install-2j2466ol\\\\dlib_451b164aff3f4a9eaab9a49865224037\\\\tools\\\\python', '-DCMAKE_LIBRARY_OUTPUT_DIRECTORY=C:\\\\Users\\\\Windows 10\\\\AppData\\\\Local\\\\Temp\\\\pip-install-2j2466ol\\\\dlib_451b164aff3f4a9eaab9a49865224037\\\\build\\\\lib.win-amd64-cpython-39', '-DPYTHON_EXECUTABLE=C:\\\\Users\\\\Windows 10\\\\anaconda3\\\\python.exe', '-DCMAKE_LIBRARY_OUTPUT_DIRECTORY_RELEASE=C:\\\\Users\\\\Windows 10\\\\AppData\\\\Local\\\\Temp\\\\pip-install-2j2466ol\\\\dlib_451b164aff3f4a9eaab9a49865224037\\\\build\\\\lib.win-amd64-cpython-39', '-A', 'x64']' returned non-zero exit status 1.\r\n",
      "  [end of output]\r\n",
      "  \r\n",
      "  note: This error originates from a subprocess, and is likely not a problem with pip.\r\n",
      "error: legacy-install-failure\r\n",
      "\r\n",
      "Encountered error while trying to install package.\r\n",
      "\r\n",
      "dlib\r\n",
      "\r\n",
      "note: This is an issue with the package mentioned above, not pip.\r\n",
      "hint: See above for output from the failure.\r\n"
     ]
    }
   ],
   "source": [
    "%%cmd\n",
    "pip install face-recognition"
   ]
  },
  {
   "cell_type": "code",
   "execution_count": 5,
   "id": "cab94e0e",
   "metadata": {},
   "outputs": [
    {
     "name": "stdout",
     "output_type": "stream",
     "text": [
      "Microsoft Windows [Version 10.0.19044.2728]\r\n",
      "(c) Microsoft Corporation. All rights reserved.\r\n",
      "\r\n",
      "C:\\Users\\Windows 10\\Documents\\a>pip  install cmake\n",
      "Requirement already satisfied: cmake in c:\\users\\windows 10\\anaconda3\\lib\\site-packages (3.26.1)\r\n",
      "\r\n",
      "C:\\Users\\Windows 10\\Documents\\a>"
     ]
    }
   ],
   "source": [
    "%%cmd\n",
    "pip  install cmake"
   ]
  },
  {
   "cell_type": "code",
   "execution_count": 8,
   "id": "ff171131",
   "metadata": {},
   "outputs": [
    {
     "name": "stdout",
     "output_type": "stream",
     "text": [
      "Microsoft Windows [Version 10.0.19044.2728]\r\n",
      "(c) Microsoft Corporation. All rights reserved.\r\n",
      "\r\n",
      "C:\\Users\\Windows 10\\Documents\\a>pip  install \"C:\\Users\\Windows 10\\Downloads\\Dlib-python whl packages\\Dlib-python whl packages\\dlib-19.22.99-cp39-cp39-win_amd64.whl\"\n",
      "Processing c:\\users\\windows 10\\downloads\\dlib-python whl packages\\dlib-python whl packages\\dlib-19.22.99-cp39-cp39-win_amd64.whl\r\n",
      "Installing collected packages: dlib\r\n",
      "Successfully installed dlib-19.22.99\r\n",
      "\r\n",
      "C:\\Users\\Windows 10\\Documents\\a>"
     ]
    }
   ],
   "source": [
    "%%cmd\n",
    "pip  install \"C:\\Users\\Windows 10\\Downloads\\Dlib-python whl packages\\Dlib-python whl packages\\dlib-19.22.99-cp39-cp39-win_amd64.whl\""
   ]
  },
  {
   "cell_type": "code",
   "execution_count": 9,
   "id": "22079bb1",
   "metadata": {},
   "outputs": [],
   "source": [
    "import dlib"
   ]
  },
  {
   "cell_type": "code",
   "execution_count": 10,
   "id": "4b09a489",
   "metadata": {},
   "outputs": [
    {
     "name": "stdout",
     "output_type": "stream",
     "text": [
      "Microsoft Windows [Version 10.0.19044.2728]\r\n",
      "(c) Microsoft Corporation. All rights reserved.\r\n",
      "\r\n",
      "C:\\Users\\Windows 10\\Documents\\a>pip install playsound\n",
      "Collecting playsound\r\n",
      "  Downloading playsound-1.3.0.tar.gz (7.7 kB)\r\n",
      "  Preparing metadata (setup.py): started\r\n",
      "  Preparing metadata (setup.py): finished with status 'done'\r\n",
      "Building wheels for collected packages: playsound\r\n",
      "  Building wheel for playsound (setup.py): started\r\n",
      "  Building wheel for playsound (setup.py): finished with status 'done'\r\n",
      "  Created wheel for playsound: filename=playsound-1.3.0-py3-none-any.whl size=7020 sha256=13bbc844c2718ee4753eec2e89371840145132ba085b1c30acec8cf9a552af28\r\n",
      "  Stored in directory: c:\\users\\windows 10\\appdata\\local\\pip\\cache\\wheels\\ba\\39\\54\\c8f7ff9a88a644d3c58b4dec802d90b79a2e0fb2a6b884bf82\r\n",
      "Successfully built playsound\r\n",
      "Installing collected packages: playsound\r\n",
      "Successfully installed playsound-1.3.0\r\n",
      "\r\n",
      "C:\\Users\\Windows 10\\Documents\\a>"
     ]
    }
   ],
   "source": [
    "%%cmd\n",
    "pip install playsound"
   ]
  },
  {
   "cell_type": "code",
   "execution_count": null,
   "id": "eabdd367",
   "metadata": {},
   "outputs": [],
   "source": []
  }
 ],
 "metadata": {
  "kernelspec": {
   "display_name": "Python 3 (ipykernel)",
   "language": "python",
   "name": "python3"
  },
  "language_info": {
   "codemirror_mode": {
    "name": "ipython",
    "version": 3
   },
   "file_extension": ".py",
   "mimetype": "text/x-python",
   "name": "python",
   "nbconvert_exporter": "python",
   "pygments_lexer": "ipython3",
   "version": "3.9.13"
  }
 },
 "nbformat": 4,
 "nbformat_minor": 5
}
